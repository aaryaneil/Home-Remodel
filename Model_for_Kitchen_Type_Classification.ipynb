{
  "nbformat": 4,
  "nbformat_minor": 0,
  "metadata": {
    "colab": {
      "provenance": []
    },
    "kernelspec": {
      "name": "python3",
      "display_name": "Python 3"
    },
    "language_info": {
      "name": "python"
    }
  },
  "cells": [
    {
      "cell_type": "code",
      "execution_count": null,
      "metadata": {
        "id": "Iqpx-f0JrjjL"
      },
      "outputs": [],
      "source": [
        "import os\n",
        "import pandas as pd\n",
        "import numpy as np\n",
        "import matplotlib.pyplot as plt\n",
        "from sklearn.metrics import classification_report, confusion_matrix\n",
        "from tensorflow.keras.preprocessing.image import ImageDataGenerator\n",
        "\n",
        "import tensorflow as tf\n",
        "from tensorflow.keras import layers, models\n",
        "\n",
        "def load_data(csv_path):\n",
        "    df = pd.read_csv(csv_path, delimiter=',', header=None, skiprows=1, names=['filename', 'galley', 'island', 'l-shape', 'one-wall', 'u-shape'])\n",
        "    filenames = df['filename'].values\n",
        "    labels = df.iloc[:, 1:].values\n",
        "    return df, filenames, labels\n",
        "\n",
        "# Directory paths\n",
        "train_dir = 'data/train'\n",
        "test_dir = 'data/test'\n",
        "validate_dir = 'data/valid'\n",
        "\n",
        "# Load training data\n",
        "train_csv_path = os.path.join(train_dir, '_classes.csv')\n",
        "df_train, train_filenames, train_labels = load_data(train_csv_path)\n",
        "\n",
        "# Load validation data\n",
        "validate_csv_path = os.path.join(validate_dir, '_classes.csv')\n",
        "df_valid, validate_filenames, validate_labels = load_data(validate_csv_path)\n",
        "\n",
        "# Data augmentation for training images\n",
        "train_datagen = ImageDataGenerator(rescale=1./255,\n",
        "                                   shear_range=0.2,\n",
        "                                   zoom_range=0.2,\n",
        "                                   horizontal_flip=True)\n",
        "\n",
        "train_generator = train_datagen.flow_from_dataframe(dataframe=df_train,\n",
        "                                                    directory=train_dir,\n",
        "                                                    x_col='filename',\n",
        "                                                    y_col=['galley', 'island', 'l-shape', 'one-wall', 'u-shape'],\n",
        "                                                    target_size=(640, 640),\n",
        "                                                    class_mode='other',\n",
        "                                                    batch_size=32)\n",
        "\n",
        "# Data augmentation for validation images\n",
        "validate_datagen = ImageDataGenerator(rescale=1./255)\n",
        "\n",
        "validate_generator = validate_datagen.flow_from_dataframe(dataframe=df_valid,\n",
        "                                                          directory=validate_dir,\n",
        "                                                          x_col='filename',\n",
        "                                                          y_col=['galley', 'island', 'l-shape', 'one-wall', 'u-shape'],\n",
        "                                                          target_size=(640, 640),\n",
        "                                                          class_mode='other',\n",
        "                                                          batch_size=32)\n",
        "\n",
        "# Data augmentation for validation images\n",
        "validate_datagen = ImageDataGenerator(rescale=1./255)\n",
        "\n",
        "validate_generator = validate_datagen.flow_from_dataframe(dataframe=df_valid,\n",
        "                                                          directory=validate_dir,\n",
        "                                                          x_col='filename',\n",
        "                                                          y_col=['galley', 'island', 'l-shape', 'one-wall', 'u-shape'],\n",
        "                                                          target_size=(640, 640),\n",
        "                                                          class_mode='other',\n",
        "                                                          batch_size=32)\n",
        "\n",
        "def create_baseline_model(input_shape, num_classes):\n",
        "    model = models.Sequential()\n",
        "\n",
        "    # Convolutional layers\n",
        "    model.add(layers.Conv2D(32, (3, 3), activation='relu', input_shape=input_shape))\n",
        "    model.add(layers.MaxPooling2D((2, 2)))\n",
        "\n",
        "    model.add(layers.Conv2D(64, (3, 3), activation='relu'))\n",
        "    model.add(layers.MaxPooling2D((2, 2)))\n",
        "\n",
        "    model.add(layers.Conv2D(128, (3, 3), activation='relu'))\n",
        "    model.add(layers.MaxPooling2D((2, 2)))\n",
        "\n",
        "    # Flatten and dense layers\n",
        "    model.add(layers.Flatten())\n",
        "    model.add(layers.Dense(128, activation='relu'))\n",
        "    model.add(layers.Dense(num_classes, activation='softmax'))\n",
        "\n",
        "    return model\n",
        "\n",
        "# Input shape for color images (3 channels for RGB)\n",
        "input_shape = (640, 640, 3)\n",
        "num_classes = 5\n",
        "\n",
        "# Create and compile the color model\n",
        "baseline_model = create_baseline_model(input_shape, num_classes)\n",
        "baseline_model.compile(optimizer='adam', loss='categorical_crossentropy', metrics=['accuracy'])\n",
        "\n",
        "# Display the model summary\n",
        "baseline_model.summary()\n",
        "\n",
        "# Train the model with validation data\n",
        "history = baseline_model.fit(train_generator, epochs=10, validation_data=validate_generator)\n",
        "\n",
        "# Save the model\n",
        "baseline_model.save('baseline_image_classification_model.h5')"
      ]
    },
    {
      "cell_type": "markdown",
      "source": [
        "## Improvements to Dataset"
      ],
      "metadata": {
        "id": "kv48ZH_p1BjS"
      }
    },
    {
      "cell_type": "code",
      "source": [
        "from roboflow import Roboflow\n",
        "\n",
        "rf = Roboflow(api_key=\"uvNrM5TfiqIdNezfmazG\")\n",
        "project = rf.workspace().project(\"shape-detection-using-image-classification\")\n",
        "model = project.version(2).model\n",
        "\n",
        "# infer on a local image\n",
        "print(model.predict(\"kitchen.jpg\").json())\n",
        "\n",
        "# save an image annotated with your predictions\n",
        "model.predict(\"kitchen.jpg\").save(\"prediction.jpg\")"
      ],
      "metadata": {
        "id": "ySWGABQw1AgL"
      },
      "execution_count": null,
      "outputs": []
    }
  ]
}